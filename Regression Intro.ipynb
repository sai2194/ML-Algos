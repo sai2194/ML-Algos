{
 "cells": [
  {
   "cell_type": "code",
   "execution_count": 14,
   "metadata": {
    "collapsed": false
   },
   "outputs": [],
   "source": [
    "import pandas as pd\n",
    "import quandl\n",
    "import warnings\n",
    "import math\n",
    "import numpy as np\n",
    "from sklearn import preprocessing,cross_validation,svm\n",
    "from sklearn.linear_model import LinearRegression\n",
    "warnings.filterwarnings(\"ignore\")"
   ]
  },
  {
   "cell_type": "code",
   "execution_count": 15,
   "metadata": {
    "collapsed": false
   },
   "outputs": [
    {
     "name": "stdout",
     "output_type": "stream",
     "text": [
      "     ticker       date   open   high    low  close      volume  ex-dividend  \\\n",
      "None                                                                          \n",
      "0         A 1999-11-18  45.50  50.00  40.00  44.00  44739900.0          0.0   \n",
      "1         A 1999-11-19  42.94  43.00  39.81  40.38  10897100.0          0.0   \n",
      "2         A 1999-11-22  41.31  44.00  40.06  44.00   4705200.0          0.0   \n",
      "3         A 1999-11-23  42.50  43.63  40.25  40.25   4274400.0          0.0   \n",
      "4         A 1999-11-24  40.13  41.94  40.00  41.06   3464400.0          0.0   \n",
      "\n",
      "      split_ratio   adj_open   adj_high    adj_low  adj_close  adj_volume  \n",
      "None                                                                       \n",
      "0             1.0  31.041951  34.112034  27.289627  30.018590  44739900.0  \n",
      "1             1.0  29.295415  29.336350  27.160002  27.548879  10897100.0  \n",
      "2             1.0  28.183363  30.018590  27.330562  30.018590   4705200.0  \n",
      "3             1.0  28.995229  29.766161  27.460188  27.460188   4274400.0  \n",
      "4             1.0  27.378319  28.613174  27.289627  28.012803   3464400.0  \n"
     ]
    }
   ],
   "source": [
    "quandl.ApiConfig.api_key = 'x1rx9cicvrEymET58JYh'\n",
    "df = quandl.get_table('WIKI/PRICES')\n",
    "print(df.head())"
   ]
  },
  {
   "cell_type": "code",
   "execution_count": 16,
   "metadata": {
    "collapsed": false
   },
   "outputs": [
    {
     "name": "stdout",
     "output_type": "stream",
     "text": [
      "       adj_open   adj_high    adj_low  adj_close  adj_volume\n",
      "None                                                        \n",
      "0     31.041951  34.112034  27.289627  30.018590  44739900.0\n",
      "1     29.295415  29.336350  27.160002  27.548879  10897100.0\n",
      "2     28.183363  30.018590  27.330562  30.018590   4705200.0\n",
      "3     28.995229  29.766161  27.460188  27.460188   4274400.0\n",
      "4     27.378319  28.613174  27.289627  28.012803   3464400.0\n"
     ]
    }
   ],
   "source": [
    "df =  df[['adj_open','adj_high','adj_low','adj_close','adj_volume']]\n",
    "print(df.head())"
   ]
  },
  {
   "cell_type": "code",
   "execution_count": 17,
   "metadata": {
    "collapsed": false
   },
   "outputs": [
    {
     "name": "stdout",
     "output_type": "stream",
     "text": [
      "      adj_close     HL_PCT  PCT_change  adj_volume\n",
      "None                                              \n",
      "0     30.018590  13.636364   -3.296703  44739900.0\n",
      "1     27.548879   6.488361   -5.961807  10897100.0\n",
      "2     30.018590   0.000000    6.511740   4705200.0\n",
      "3     27.460188   8.397516   -5.294118   4274400.0\n",
      "4     28.012803   2.143205    2.317468   3464400.0\n"
     ]
    }
   ],
   "source": [
    "df['HL_PCT'] = (df['adj_high']-df['adj_close']) / df['adj_close']*100\n",
    "df['PCT_change'] = (df['adj_close']-df['adj_open']) / df['adj_open']*100\n",
    "df = df[['adj_close','HL_PCT','PCT_change','adj_volume']]\n",
    "print(df.head())"
   ]
  },
  {
   "cell_type": "code",
   "execution_count": 18,
   "metadata": {
    "collapsed": false
   },
   "outputs": [],
   "source": [
    "forecast_col = 'adj_close'\n",
    "df.fillna(-99999,inplace = True)\n",
    "forecast_out = int(math.ceil(0.01*len(df)))\n",
    "df['label'] = df[forecast_col].shift(-forecast_out)\n",
    "df.dropna(inplace=True)\n"
   ]
  },
  {
   "cell_type": "code",
   "execution_count": 19,
   "metadata": {
    "collapsed": false
   },
   "outputs": [],
   "source": [
    "X = np.array(df.drop(['label'],1))\n",
    "y = np.array(df['label'])\n",
    "X = preprocessing.scale(X)\n"
   ]
  },
  {
   "cell_type": "code",
   "execution_count": 20,
   "metadata": {
    "collapsed": false
   },
   "outputs": [],
   "source": [
    "X_train,X_test,y_train,y_test = cross_validation.train_test_split(X,y,test_size = 0.2,random_state=123)"
   ]
  },
  {
   "cell_type": "code",
   "execution_count": 21,
   "metadata": {
    "collapsed": false
   },
   "outputs": [
    {
     "name": "stdout",
     "output_type": "stream",
     "text": [
      "0.627353265784\n"
     ]
    }
   ],
   "source": [
    "# Linear Regression\n",
    "clf = LinearRegression()\n",
    "clf.fit(X_train,y_train)\n",
    "accuracy = clf.score(X_test,y_test)\n",
    "print(accuracy)"
   ]
  },
  {
   "cell_type": "code",
   "execution_count": 22,
   "metadata": {
    "collapsed": false
   },
   "outputs": [
    {
     "name": "stdout",
     "output_type": "stream",
     "text": [
      "0.274933998113\n"
     ]
    }
   ],
   "source": [
    "# SVM with linear Kernel\n",
    "clf = svm.SVR()\n",
    "clf.fit(X_train,y_train)\n",
    "accuracy = clf.score(X_test,y_test)\n",
    "print(accuracy)"
   ]
  },
  {
   "cell_type": "code",
   "execution_count": 23,
   "metadata": {
    "collapsed": false
   },
   "outputs": [
    {
     "name": "stdout",
     "output_type": "stream",
     "text": [
      "0.413751844027\n"
     ]
    }
   ],
   "source": [
    "# SVM with polynomial kernel\n",
    "clf = svm.SVR(kernel='poly')\n",
    "clf.fit(X_train,y_train)\n",
    "accuracy = clf.score(X_test,y_test)\n",
    "print(accuracy)"
   ]
  }
 ],
 "metadata": {
  "kernelspec": {
   "display_name": "Python 3",
   "language": "python",
   "name": "python3"
  },
  "language_info": {
   "codemirror_mode": {
    "name": "ipython",
    "version": 3
   },
   "file_extension": ".py",
   "mimetype": "text/x-python",
   "name": "python",
   "nbconvert_exporter": "python",
   "pygments_lexer": "ipython3",
   "version": "3.6.0"
  }
 },
 "nbformat": 4,
 "nbformat_minor": 2
}
